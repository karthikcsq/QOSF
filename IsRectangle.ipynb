{
 "cells": [
  {
   "cell_type": "code",
   "execution_count": 37,
   "id": "09edcaa5-670e-4cf1-afc4-acd74acb8c87",
   "metadata": {},
   "outputs": [
    {
     "name": "stderr",
     "output_type": "stream",
     "text": [
      "ibmqfactory.load_account:WARNING:2023-02-28 00:46:15,174: Credentials are already in use. The existing account in the session will be replaced.\n"
     ]
    }
   ],
   "source": [
    "import numpy as np\n",
    "\n",
    "# Importing standard Qiskit libraries\n",
    "from qiskit import QuantumCircuit, transpile, Aer, IBMQ, QuantumRegister, ClassicalRegister, assemble\n",
    "from qiskit.tools.jupyter import *\n",
    "from qiskit.visualization import *\n",
    "from ibm_quantum_widgets import *\n",
    "from qiskit.providers.aer import QasmSimulator\n",
    "\n",
    "# Loading your IBM Quantum account(s)\n",
    "provider = IBMQ.load_account()"
   ]
  },
  {
   "cell_type": "code",
   "execution_count": 55,
   "id": "8ecbe834-8fba-4e58-90f2-0eb8b6b189f2",
   "metadata": {},
   "outputs": [],
   "source": [
    "def compare_nums(A, B):\n",
    "    ''' This function uses the CSWAP test, which measures the overlap of two quantum states'''\n",
    "    # Convert ints to binary strings\n",
    "    A = bin(A)[2:]\n",
    "    B = bin(B)[2:]\n",
    "    # Make both strings the same length by changing preceding 0s\n",
    "    if len(A) > len(B):\n",
    "        B = '0'*(len(A)-len(B))+B\n",
    "    else:\n",
    "        A = '0'*(len(B)-len(A))+A\n",
    "    \n",
    "    # Create quantum registers for each number, including an ancillary qubit to implement the test\n",
    "    qr_A = QuantumRegister(len(A), name=\"qr_A\")\n",
    "    qr_B = QuantumRegister(len(B), name=\"qr_B\")\n",
    "    qr_anc = QuantumRegister(1, name=\"ancillary\")\n",
    "    cr_measure = ClassicalRegister(1, name=\"measurement\")\n",
    "    qc = QuantumCircuit(qr_anc, qr_A, qr_B, cr_measure)\n",
    "    \n",
    "    # Set each quantum register to the corresponding quantum state\n",
    "    for i in range(len(A)):\n",
    "        if A[i] == '1':\n",
    "            qc.x(qr_A[i])  # Puts qubit in the |1> state if the bitstring has a '1' there\n",
    "        if B[i] == '1':\n",
    "            qc.x(qr_B[i])\n",
    "    \n",
    "    qc.h(qr_anc[0])  # Ancillary qubit in superposition\n",
    "    for i in range(len(A)):\n",
    "        qc.cswap(qr_anc[0], qr_A[i], qr_B[i])  # Swap each qubit with the corresponding qubit in the other register\n",
    "    qc.h(qr_anc[0])  # Phase kickback leads to the initial state changing\n",
    "    qc.measure(qr_anc[0], cr_measure[0])  # Measurement\n",
    "    \n",
    "    # Run Experiment\n",
    "    aer_sim = Aer.get_backend('aer_simulator')\n",
    "    shots = 2048\n",
    "    t_qpe = transpile(qc, aer_sim)\n",
    "    qobj = assemble(t_qpe, shots=shots)\n",
    "    results = aer_sim.run(qobj).result()\n",
    "    counts = results.get_counts()\n",
    "    \n",
    "    '''\n",
    "    If the two states have no overlap |0> will be measured ~50% of the time\n",
    "    For this problem, there will only ever be very high amounts of overlap (both states are equal) or no overlap (states are not equal),\n",
    "    Thus, threshold for success is very high.\n",
    "    '''\n",
    "    \n",
    "    if counts['0'] > shots * 0.99:  \n",
    "        return True\n",
    "    return False"
   ]
  },
  {
   "cell_type": "code",
   "execution_count": 75,
   "id": "0ce39317-0653-4852-bd30-fa8fd865cb86",
   "metadata": {},
   "outputs": [],
   "source": [
    "def is_rectangle(A, B, C, D):\n",
    "    sides = [A, B, C, D]\n",
    "    two_equal = False\n",
    "    for i in range(1, len(sides)):\n",
    "        if compare_nums(A, sides[i]):\n",
    "            two_equal = True\n",
    "            del sides[i]\n",
    "            del sides[0]\n",
    "            break\n",
    "    if two_equal:\n",
    "        return compare_nums(sides[0], sides[1])\n",
    "    else:\n",
    "        return False"
   ]
  },
  {
   "cell_type": "code",
   "execution_count": 83,
   "id": "44356751-a387-4d1e-b4ba-f1cbaab260ea",
   "metadata": {},
   "outputs": [
    {
     "name": "stdout",
     "output_type": "stream",
     "text": [
      "True\n"
     ]
    }
   ],
   "source": [
    "print(is_rectangle(1452,764,764,1452))"
   ]
  },
  {
   "cell_type": "code",
   "execution_count": null,
   "id": "48832e2c-69b5-4a04-8889-12eb8ff480ec",
   "metadata": {},
   "outputs": [],
   "source": []
  }
 ],
 "metadata": {
  "kernelspec": {
   "display_name": "Python 3 (ipykernel)",
   "language": "python",
   "name": "python3"
  },
  "language_info": {
   "codemirror_mode": {
    "name": "ipython",
    "version": 3
   },
   "file_extension": ".py",
   "mimetype": "text/x-python",
   "name": "python",
   "nbconvert_exporter": "python",
   "pygments_lexer": "ipython3",
   "version": "3.8.15"
  },
  "widgets": {
   "application/vnd.jupyter.widget-state+json": {
    "state": {
     "0c0102c2102d4f81bb19c10e73ed7910": {
      "model_module": "@jupyter-widgets/controls",
      "model_module_version": "1.5.0",
      "model_name": "DescriptionStyleModel",
      "state": {
       "description_width": ""
      }
     },
     "11e8fe69350744e9a524a71663549e76": {
      "model_module": "@jupyter-widgets/base",
      "model_module_version": "1.2.0",
      "model_name": "LayoutModel",
      "state": {}
     },
     "142baa8d45784ad5b89644be4b76b124": {
      "model_module": "@jupyter-widgets/controls",
      "model_module_version": "1.5.0",
      "model_name": "HTMLModel",
      "state": {
       "layout": "IPY_MODEL_e40c0f190c584934aef2b896f26ef77e",
       "style": "IPY_MODEL_9a22095f9bbd41d397599591fc96ce9c",
       "value": "<h5>Backend</h5>"
      }
     },
     "3d4ffc274d4d4768bd31d1c04e725766": {
      "model_module": "@jupyter-widgets/controls",
      "model_module_version": "1.5.0",
      "model_name": "HTMLModel",
      "state": {
       "layout": "IPY_MODEL_f39d35fdd11044abaa996eb920769571",
       "style": "IPY_MODEL_a42b496bd4f441b1ac7d95631c512523",
       "value": "<h5>Status</h5>"
      }
     },
     "41f151f73f244b8aa4ad982a36e5ec34": {
      "model_module": "@jupyter-widgets/controls",
      "model_module_version": "1.5.0",
      "model_name": "HTMLModel",
      "state": {
       "layout": "IPY_MODEL_11e8fe69350744e9a524a71663549e76",
       "style": "IPY_MODEL_4a42eceb45ea4f4694a2c8976bc6d96b",
       "value": "<h5>Message</h5>"
      }
     },
     "42f41767b9794a17bc3e120d871dbc5f": {
      "model_module": "@jupyter-widgets/controls",
      "model_module_version": "1.5.0",
      "model_name": "GridBoxModel",
      "state": {
       "children": [
        "IPY_MODEL_a6e6b9f594ff4a4a8829aa9f6892c2d5"
       ],
       "layout": "IPY_MODEL_acd453db411a42c28aa738d0e64ebd49"
      }
     },
     "4a42eceb45ea4f4694a2c8976bc6d96b": {
      "model_module": "@jupyter-widgets/controls",
      "model_module_version": "1.5.0",
      "model_name": "DescriptionStyleModel",
      "state": {
       "description_width": ""
      }
     },
     "4aeb627f135c482fab5947640d52c298": {
      "model_module": "@jupyter-widgets/base",
      "model_module_version": "1.2.0",
      "model_name": "LayoutModel",
      "state": {
       "margin": "0px 0px 0px 37px",
       "width": "600px"
      }
     },
     "5075cc599b7d400296015fab281b2c5b": {
      "model_module": "@jupyter-widgets/controls",
      "model_module_version": "1.5.0",
      "model_name": "DescriptionStyleModel",
      "state": {
       "description_width": ""
      }
     },
     "5e6223c717e8475e8df22b120d1dd0cd": {
      "model_module": "@jupyter-widgets/controls",
      "model_module_version": "1.5.0",
      "model_name": "HTMLModel",
      "state": {
       "layout": "IPY_MODEL_f773f7f315124ae8928cde7548eca174",
       "style": "IPY_MODEL_0c0102c2102d4f81bb19c10e73ed7910",
       "value": "<h5>Job ID</h5>"
      }
     },
     "5f499f30d54541ee99a6d35e20eb194a": {
      "model_module": "@jupyter-widgets/controls",
      "model_module_version": "1.5.0",
      "model_name": "DescriptionStyleModel",
      "state": {
       "description_width": ""
      }
     },
     "6083970066364395827d371411a6ec03": {
      "model_module": "@jupyter-widgets/base",
      "model_module_version": "1.2.0",
      "model_name": "LayoutModel",
      "state": {
       "margin": "0px 0px 10px 0px"
      }
     },
     "62d676664c2842c39ebbf092b389306b": {
      "model_module": "@jupyter-widgets/base",
      "model_module_version": "1.2.0",
      "model_name": "LayoutModel",
      "state": {
       "grid_area": "right",
       "padding": "0px 0px 0px 0px",
       "width": "70px"
      }
     },
     "6538bb26e04441738d22e33498c692d1": {
      "model_module": "@jupyter-widgets/controls",
      "model_module_version": "1.5.0",
      "model_name": "HBoxModel",
      "state": {
       "children": [
        "IPY_MODEL_5e6223c717e8475e8df22b120d1dd0cd",
        "IPY_MODEL_142baa8d45784ad5b89644be4b76b124",
        "IPY_MODEL_3d4ffc274d4d4768bd31d1c04e725766",
        "IPY_MODEL_69c13f9af1aa48a1a30aea686bb5c935",
        "IPY_MODEL_41f151f73f244b8aa4ad982a36e5ec34"
       ],
       "layout": "IPY_MODEL_4aeb627f135c482fab5947640d52c298"
      }
     },
     "6794366284d84cd599d5415d56e0c24a": {
      "model_module": "@jupyter-widgets/controls",
      "model_module_version": "1.5.0",
      "model_name": "ButtonStyleModel",
      "state": {}
     },
     "69c13f9af1aa48a1a30aea686bb5c935": {
      "model_module": "@jupyter-widgets/controls",
      "model_module_version": "1.5.0",
      "model_name": "HTMLModel",
      "state": {
       "layout": "IPY_MODEL_7646cadbb54a43cea8eb3603781cb04c",
       "style": "IPY_MODEL_5075cc599b7d400296015fab281b2c5b",
       "value": "<h5>Queue</h5>"
      }
     },
     "7646cadbb54a43cea8eb3603781cb04c": {
      "model_module": "@jupyter-widgets/base",
      "model_module_version": "1.2.0",
      "model_name": "LayoutModel",
      "state": {
       "width": "70px"
      }
     },
     "9a22095f9bbd41d397599591fc96ce9c": {
      "model_module": "@jupyter-widgets/controls",
      "model_module_version": "1.5.0",
      "model_name": "DescriptionStyleModel",
      "state": {
       "description_width": ""
      }
     },
     "a42b496bd4f441b1ac7d95631c512523": {
      "model_module": "@jupyter-widgets/controls",
      "model_module_version": "1.5.0",
      "model_name": "DescriptionStyleModel",
      "state": {
       "description_width": ""
      }
     },
     "a6e6b9f594ff4a4a8829aa9f6892c2d5": {
      "model_module": "@jupyter-widgets/controls",
      "model_module_version": "1.5.0",
      "model_name": "ButtonModel",
      "state": {
       "button_style": "primary",
       "description": "Clear",
       "layout": "IPY_MODEL_62d676664c2842c39ebbf092b389306b",
       "style": "IPY_MODEL_6794366284d84cd599d5415d56e0c24a"
      }
     },
     "acd453db411a42c28aa738d0e64ebd49": {
      "model_module": "@jupyter-widgets/base",
      "model_module_version": "1.2.0",
      "model_name": "LayoutModel",
      "state": {
       "grid_template_areas": "\n                                       \". . . . right \"\n                                        ",
       "grid_template_columns": "20% 20% 20% 20% 20%",
       "width": "100%"
      }
     },
     "bc03b5e375814e0381c680d227f7fc3d": {
      "model_module": "@jupyter-widgets/controls",
      "model_module_version": "1.5.0",
      "model_name": "HTMLModel",
      "state": {
       "layout": "IPY_MODEL_6083970066364395827d371411a6ec03",
       "style": "IPY_MODEL_5f499f30d54541ee99a6d35e20eb194a",
       "value": "<p style='font-family: IBM Plex Sans, Arial, Helvetica, sans-serif; font-size: 20px; font-weight: medium;'>Circuit Properties</p>"
      }
     },
     "e40c0f190c584934aef2b896f26ef77e": {
      "model_module": "@jupyter-widgets/base",
      "model_module_version": "1.2.0",
      "model_name": "LayoutModel",
      "state": {
       "width": "145px"
      }
     },
     "f39d35fdd11044abaa996eb920769571": {
      "model_module": "@jupyter-widgets/base",
      "model_module_version": "1.2.0",
      "model_name": "LayoutModel",
      "state": {
       "width": "95px"
      }
     },
     "f773f7f315124ae8928cde7548eca174": {
      "model_module": "@jupyter-widgets/base",
      "model_module_version": "1.2.0",
      "model_name": "LayoutModel",
      "state": {
       "width": "190px"
      }
     }
    },
    "version_major": 2,
    "version_minor": 0
   }
  }
 },
 "nbformat": 4,
 "nbformat_minor": 5
}
